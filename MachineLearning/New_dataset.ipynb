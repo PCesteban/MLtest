{
 "cells": [
  {
   "cell_type": "code",
   "execution_count": 1,
   "metadata": {},
   "outputs": [],
   "source": [
    "import pandas as pd\n",
    "\n",
    "waveletdb8 = pd.read_csv('waveletdb8_Prueba.csv')\n",
    "waveletdb12 = pd.read_csv('waveletdb12_Prueba.csv')\n",
    "waveletsym8 = pd.read_csv('waveletsym8_Prueba.csv')\n",
    "waveletsym12 = pd.read_csv('waveletsym12_Prueba.csv')"
   ]
  },
  {
   "cell_type": "code",
   "execution_count": 2,
   "metadata": {},
   "outputs": [],
   "source": [
    "target = waveletdb8['target']\n",
    "waveletdb8 = waveletdb8.drop(['target'], axis=1)\n",
    "waveletdb12 = waveletdb12.drop(['target'], axis=1)\n",
    "waveletsym8 = waveletsym8.drop(['target'], axis=1)\n",
    "waveletsym12 = waveletsym12.drop(['target'], axis=1)\n",
    "\n",
    "new_df = pd.concat([waveletdb8, waveletdb12, waveletsym8, waveletsym12], axis=1).drop(['Unnamed: 0'], axis=1).reset_index(drop=True)\n",
    "new_df['target'] = target\n",
    "new_df.to_csv('new_dataset.csv', index=False)"
   ]
  }
 ],
 "metadata": {
  "interpreter": {
   "hash": "462420304dfe43e88c8071f4be7bade6b546f4e60cccd036e84f90d5fd4d0b43"
  },
  "kernelspec": {
   "display_name": "Python 3.7.9 ('base')",
   "language": "python",
   "name": "python3"
  },
  "language_info": {
   "codemirror_mode": {
    "name": "ipython",
    "version": 3
   },
   "file_extension": ".py",
   "mimetype": "text/x-python",
   "name": "python",
   "nbconvert_exporter": "python",
   "pygments_lexer": "ipython3",
   "version": "3.7.9"
  },
  "orig_nbformat": 4
 },
 "nbformat": 4,
 "nbformat_minor": 2
}
