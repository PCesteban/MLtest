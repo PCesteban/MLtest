{
 "cells": [
  {
   "cell_type": "code",
   "execution_count": 110,
   "metadata": {},
   "outputs": [],
   "source": [
    "import random\n",
    "import numpy as np\n",
    "import pandas as pd\n",
    "from sklearn.model_selection import cross_val_score\n",
    "from sklearn.neighbors import KNeighborsClassifier\n",
    "from sklearn.naive_bayes import BernoulliNB\n",
    "from sklearn import tree\n",
    "from sklearn.ensemble import AdaBoostClassifier\n",
    "from sklearn.ensemble import RandomForestClassifier\n",
    "from sklearn.ensemble import GradientBoostingClassifier\n",
    "from numpy import percentile\n",
    "from sklearn.model_selection import cross_validate\n",
    "from sklearn.metrics import make_scorer\n",
    "from sklearn.metrics import confusion_matrix\n",
    "from numpy import percentile\n",
    "from sklearn.metrics import accuracy_score\n",
    "from sklearn.decomposition import PCA\n",
    "from sklearn.preprocessing import normalize\n",
    "import matplotlib.pyplot as plt\n",
    "from sklearn import datasets, metrics\n",
    "from sklearn.model_selection import train_test_split\n",
    "from sklearn.model_selection import cross_val_score\n",
    "from sklearn.model_selection import KFold\n",
    "#from tabulate import tabulate\n",
    "from sklearn.feature_selection import SelectFromModel\n",
    "from sklearn.ensemble import ExtraTreesClassifier\n",
    "from sklearn.pipeline import make_pipeline\n",
    "from sklearn.preprocessing import StandardScaler\n",
    "from sklearn.tree import DecisionTreeClassifier\n",
    "from sklearn.linear_model import LogisticRegression\n",
    "from sklearn.feature_selection import SelectKBest\n",
    "from sklearn.model_selection import StratifiedShuffleSplit\n",
    "from sklearn.svm import LinearSVC\n",
    "from sklearn.model_selection import cross_validate\n",
    "from sklearn.metrics import roc_curve\n",
    "from sklearn.model_selection import cross_val_predict\n",
    "from sklearn.metrics import roc_auc_score"
   ]
  },
  {
   "cell_type": "code",
   "execution_count": 82,
   "metadata": {},
   "outputs": [],
   "source": [
    "df_final = pd.read_csv('waveletsym12_Prueba.csv')\n",
    "target = df_final['target']\n",
    "df_final = df_final.drop(df_final.columns[[0,373]], axis='columns')\n",
    "\n",
    "\n",
    "X= df_final\n",
    "y= target\n",
    "numCV = 9\n",
    "\n",
    "rng = np.random.RandomState(0)\n",
    "sss = StratifiedShuffleSplit(n_splits=2, test_size=0.28, random_state=rng)\n",
    "\n",
    "for train_index, test_index in sss.split(X, y):\n",
    "    \n",
    "    X_train, X_test = X.loc[train_index,:], X.loc[test_index,:]\n",
    "    y_train, y_test = y.loc[train_index], y.loc[test_index]\n",
    "\n",
    "\n",
    "num = 94\n",
    "\n"
   ]
  },
  {
   "cell_type": "code",
   "execution_count": 83,
   "metadata": {},
   "outputs": [],
   "source": [
    "random.seed(527)\n",
    "\n",
    "cache_dir = \".\"\n",
    "pipelineKNN = make_pipeline(StandardScaler(),SelectKBest(k=num),\n",
    "                         KNeighborsClassifier(n_neighbors=15), memory=cache_dir)\n",
    "pipelineKNN.fit(X_train, y_train)\n",
    "predsKNN = pipelineKNN.predict(X_test)\n",
    "\n",
    "\n",
    "scoresKNN = cross_val_score(pipelineKNN, X_train, y_train, cv=numCV)\n",
    "quartilesKNN = percentile(scoresKNN, [25, 50, 75])\n",
    "avKNN = scoresKNN.mean()\n",
    "minKNN, maxKNN = scoresKNN.min(), scoresKNN.max()\n",
    "\n",
    "\n",
    "accKNN=accuracy_score(y_test, predsKNN)\n",
    "accKNN= accKNN*100\n",
    "tnKNN, fpKNN, fnKNN, tpKNN = confusion_matrix(y_test, predsKNN).ravel()\n",
    "SensKNN = (tpKNN/(tpKNN+fnKNN))*100\n",
    "SpeciKNN = (tnKNN/(tnKNN+fpKNN))*100\n",
    "\n"
   ]
  },
  {
   "cell_type": "code",
   "execution_count": 84,
   "metadata": {},
   "outputs": [],
   "source": [
    "random.seed(527)\n",
    "pipelineNB = make_pipeline(StandardScaler(),SelectKBest(k=num),\n",
    "                         BernoulliNB(alpha = 0.1, binarize = 0.45))\n",
    "pipelineNB.fit(X_train, y_train)\n",
    "predsNB = pipelineNB.predict(X_test)\n",
    "\n",
    "\n",
    "modelNB = BernoulliNB(alpha = 0.1, binarize = 0.45)\n",
    "scoresNB = cross_val_score(pipelineNB, X_train, y_train, cv=numCV)\n",
    "quartilesNB = percentile(scoresNB, [25, 50, 75])\n",
    "avNB = scoresNB.mean()\n",
    "minNB, maxNB = scoresNB.min(), scoresNB.max()\n",
    "\n",
    "\n",
    "accNB=accuracy_score(y_test, predsNB)\n",
    "accNB= accNB*100\n",
    "tnNB, fpNB, fnNB, tpNB = confusion_matrix(y_test, predsNB).ravel()\n",
    "SensNB = (tpNB/(tpNB+fnNB))*100\n",
    "SpeciNB = (tnNB/(tnNB+fpNB))*100\n"
   ]
  },
  {
   "cell_type": "code",
   "execution_count": 85,
   "metadata": {},
   "outputs": [],
   "source": [
    "random.seed(527)\n",
    "pipelineADA = make_pipeline(StandardScaler(), SelectKBest(k=num),\n",
    "                         AdaBoostClassifier(n_estimators=150, random_state=0))\n",
    "pipelineADA.fit(X_train, y_train)\n",
    "predsADA = pipelineADA.predict(X_test)\n",
    "\n",
    "\n",
    "scoresADA= cross_val_score(pipelineADA, X_train, y_train,cv=numCV)\n",
    "quartilesADA = percentile(scoresADA, [25, 50, 75])\n",
    "avADA = scoresADA.mean()\n",
    "minADA, maxADA = scoresADA.min(), scoresADA.max()\n",
    "\n",
    "\n",
    "accADA=accuracy_score(y_test, predsADA)\n",
    "accADA= accADA*100\n",
    "tnADA, fpADA, fnADA, tpADA = confusion_matrix(y_test, predsADA).ravel()\n",
    "SensADA = (tpADA/(tpADA+fnADA))*100\n",
    "SpeciADA = (tnADA/(tnADA+fpADA))*100"
   ]
  },
  {
   "cell_type": "code",
   "execution_count": 86,
   "metadata": {},
   "outputs": [],
   "source": [
    "random.seed(527)\n",
    "pipelineRF = make_pipeline(StandardScaler(),SelectKBest(k=num),\n",
    "                         RandomForestClassifier(n_estimators=150, random_state=0))\n",
    "pipelineRF.fit(X_train, y_train)\n",
    "predsRF = pipelineRF.predict(X_test)\n",
    "\n",
    "\n",
    "scoresRF = cross_val_score(pipelineRF, X_train, y_train, cv=numCV)\n",
    "quartilesRF = percentile(scoresRF, [25, 50, 75])\n",
    "avRF = scoresRF.mean()\n",
    "minRF, maxRF = scoresRF.min(), scoresRF.max()\n",
    "\n",
    "accRF=accuracy_score(y_test, predsRF)\n",
    "accRF= accRF*100\n",
    "tnRF, fpRF, fnRF, tpRF = confusion_matrix(y_test, predsRF).ravel()\n",
    "SensRF = (tpRF/(tpRF+fnRF))*100\n",
    "SpeciRF = (tnRF/(tnRF+fpRF))*100"
   ]
  },
  {
   "cell_type": "code",
   "execution_count": 91,
   "metadata": {},
   "outputs": [],
   "source": [
    "random.seed(527)\n",
    "pipelineGBC = make_pipeline(StandardScaler(),SelectKBest(k=num),\n",
    "                         GradientBoostingClassifier(random_state=0, n_estimators=50))\n",
    "pipelineGBC.fit(X_train, y_train)\n",
    "predsGBC = pipelineGBC.predict(X_test)\n",
    "\n",
    "\n",
    "scoresGBC = cross_val_score(pipelineGBC, X_train, y_train, cv=numCV)\n",
    "quartilesGBC = percentile(scoresGBC, [25, 50, 75])\n",
    "avGBC = scoresGBC.mean()\n",
    "minGBC, maxGBC = scoresGBC.min(), scoresGBC.max()\n",
    "\n",
    "\n",
    "accGBC=accuracy_score(y_test, predsGBC)\n",
    "accGBC= accGBC*100\n",
    "tnGBC, fpGBC, fnGBC, tpGBC = confusion_matrix(y_test, predsGBC).ravel()\n",
    "SensGBC = (tpGBC/(tpGBC+fnGBC))*100\n",
    "SpeciGBC = (tnGBC/(tnGBC+fpGBC))*100"
   ]
  },
  {
   "cell_type": "code",
   "execution_count": 88,
   "metadata": {},
   "outputs": [],
   "source": [
    "random.seed(527)\n",
    "pipelineSVM = make_pipeline(StandardScaler(),SelectKBest(k=num),\n",
    "                        LinearSVC(random_state=rng))\n",
    "pipelineSVM.fit(X_train, y_train)\n",
    "predsSVM = pipelineSVM.predict(X_test)\n",
    "\n",
    "scoresSVM = cross_val_score(pipelineSVM, X_train, y_train, cv=numCV)\n",
    "quartilesSVM = percentile(scoresSVM, [25, 50, 75])\n",
    "avSVM = scoresSVM.mean()\n",
    "minSVM, maxSVM = scoresSVM.min(), scoresSVM.max()\n",
    "\n",
    "\n",
    "accSVM=accuracy_score(y_test, predsSVM)\n",
    "accSVM= accSVM*100\n",
    "tnSVM, fpSVM, fnSVM, tpSVM = confusion_matrix(y_test, predsSVM).ravel()\n",
    "SensSVM = (tpSVM/(tpSVM+fnSVM))*100\n",
    "SpeciSVM = (tnSVM/(tnSVM+fpSVM))*100"
   ]
  },
  {
   "cell_type": "code",
   "execution_count": 89,
   "metadata": {},
   "outputs": [],
   "source": [
    "random.seed(527)\n",
    "pipelineGLMNET = make_pipeline(StandardScaler(),SelectKBest(k=num),\n",
    "                        LogisticRegression(random_state=0))\n",
    "pipelineGLMNET.fit(X_train, y_train)\n",
    "predsGLMNET = pipelineGLMNET.predict(X_test)\n",
    "\n",
    "scoresGLMNET = cross_val_score(pipelineGLMNET, X_train, y_train, cv=numCV)\n",
    "quartilesGLMNET = percentile(scoresGLMNET, [25, 50, 75])\n",
    "avGLMNET = scoresGLMNET.mean()\n",
    "minGLMNET, maxGLMNET = scoresGLMNET.min(), scoresGLMNET.max()\n",
    "\n",
    "\n",
    "accGLMNET=accuracy_score(y_test, predsGLMNET)\n",
    "accGLMNET= accGLMNET*100\n",
    "tnGLMNET, fpGLMNET, fnGLMNET, tpGLMNET = confusion_matrix(y_test, predsGLMNET).ravel()\n",
    "SensGLMNET = (tpGLMNET/(tpGLMNET+fnGLMNET))*100\n",
    "SpeciGLMNET = (tnGLMNET/(tnGLMNET+fpGLMNET))*100"
   ]
  },
  {
   "cell_type": "code",
   "execution_count": 92,
   "metadata": {},
   "outputs": [
    {
     "data": {
      "text/html": [
       "<div>\n",
       "<style scoped>\n",
       "    .dataframe tbody tr th:only-of-type {\n",
       "        vertical-align: middle;\n",
       "    }\n",
       "\n",
       "    .dataframe tbody tr th {\n",
       "        vertical-align: top;\n",
       "    }\n",
       "\n",
       "    .dataframe thead th {\n",
       "        text-align: right;\n",
       "    }\n",
       "</style>\n",
       "<table border=\"1\" class=\"dataframe\">\n",
       "  <thead>\n",
       "    <tr style=\"text-align: right;\">\n",
       "      <th></th>\n",
       "      <th>Model</th>\n",
       "      <th>Accuracy</th>\n",
       "      <th>Sensitivity</th>\n",
       "      <th>Specificity</th>\n",
       "      <th>Accuracy_CV</th>\n",
       "      <th>Min</th>\n",
       "      <th>Max</th>\n",
       "      <th>q1</th>\n",
       "      <th>q2</th>\n",
       "      <th>q3</th>\n",
       "    </tr>\n",
       "  </thead>\n",
       "  <tbody>\n",
       "    <tr>\n",
       "      <th>0</th>\n",
       "      <td>KNN</td>\n",
       "      <td>72.727273</td>\n",
       "      <td>54.545455</td>\n",
       "      <td>90.909091</td>\n",
       "      <td>0.537037</td>\n",
       "      <td>0.166667</td>\n",
       "      <td>0.833333</td>\n",
       "      <td>0.500000</td>\n",
       "      <td>0.500000</td>\n",
       "      <td>0.666667</td>\n",
       "    </tr>\n",
       "    <tr>\n",
       "      <th>1</th>\n",
       "      <td>NB</td>\n",
       "      <td>77.272727</td>\n",
       "      <td>72.727273</td>\n",
       "      <td>81.818182</td>\n",
       "      <td>0.611111</td>\n",
       "      <td>0.166667</td>\n",
       "      <td>0.833333</td>\n",
       "      <td>0.500000</td>\n",
       "      <td>0.666667</td>\n",
       "      <td>0.666667</td>\n",
       "    </tr>\n",
       "    <tr>\n",
       "      <th>2</th>\n",
       "      <td>ADA</td>\n",
       "      <td>90.909091</td>\n",
       "      <td>81.818182</td>\n",
       "      <td>100.000000</td>\n",
       "      <td>0.777778</td>\n",
       "      <td>0.500000</td>\n",
       "      <td>1.000000</td>\n",
       "      <td>0.666667</td>\n",
       "      <td>0.833333</td>\n",
       "      <td>1.000000</td>\n",
       "    </tr>\n",
       "    <tr>\n",
       "      <th>3</th>\n",
       "      <td>RF</td>\n",
       "      <td>86.363636</td>\n",
       "      <td>81.818182</td>\n",
       "      <td>90.909091</td>\n",
       "      <td>0.777778</td>\n",
       "      <td>0.500000</td>\n",
       "      <td>1.000000</td>\n",
       "      <td>0.666667</td>\n",
       "      <td>0.833333</td>\n",
       "      <td>0.833333</td>\n",
       "    </tr>\n",
       "    <tr>\n",
       "      <th>4</th>\n",
       "      <td>GBC</td>\n",
       "      <td>90.909091</td>\n",
       "      <td>90.909091</td>\n",
       "      <td>90.909091</td>\n",
       "      <td>0.814815</td>\n",
       "      <td>0.500000</td>\n",
       "      <td>1.000000</td>\n",
       "      <td>0.666667</td>\n",
       "      <td>0.833333</td>\n",
       "      <td>1.000000</td>\n",
       "    </tr>\n",
       "    <tr>\n",
       "      <th>5</th>\n",
       "      <td>SVM</td>\n",
       "      <td>72.727273</td>\n",
       "      <td>63.636364</td>\n",
       "      <td>81.818182</td>\n",
       "      <td>0.740741</td>\n",
       "      <td>0.500000</td>\n",
       "      <td>1.000000</td>\n",
       "      <td>0.666667</td>\n",
       "      <td>0.666667</td>\n",
       "      <td>0.833333</td>\n",
       "    </tr>\n",
       "    <tr>\n",
       "      <th>6</th>\n",
       "      <td>LogisticR</td>\n",
       "      <td>72.727273</td>\n",
       "      <td>63.636364</td>\n",
       "      <td>81.818182</td>\n",
       "      <td>0.777778</td>\n",
       "      <td>0.500000</td>\n",
       "      <td>1.000000</td>\n",
       "      <td>0.666667</td>\n",
       "      <td>0.833333</td>\n",
       "      <td>1.000000</td>\n",
       "    </tr>\n",
       "  </tbody>\n",
       "</table>\n",
       "</div>"
      ],
      "text/plain": [
       "       Model   Accuracy  Sensitivity  Specificity  Accuracy_CV       Min  \\\n",
       "0        KNN  72.727273    54.545455    90.909091     0.537037  0.166667   \n",
       "1         NB  77.272727    72.727273    81.818182     0.611111  0.166667   \n",
       "2        ADA  90.909091    81.818182   100.000000     0.777778  0.500000   \n",
       "3         RF  86.363636    81.818182    90.909091     0.777778  0.500000   \n",
       "4        GBC  90.909091    90.909091    90.909091     0.814815  0.500000   \n",
       "5        SVM  72.727273    63.636364    81.818182     0.740741  0.500000   \n",
       "6  LogisticR  72.727273    63.636364    81.818182     0.777778  0.500000   \n",
       "\n",
       "        Max        q1        q2        q3  \n",
       "0  0.833333  0.500000  0.500000  0.666667  \n",
       "1  0.833333  0.500000  0.666667  0.666667  \n",
       "2  1.000000  0.666667  0.833333  1.000000  \n",
       "3  1.000000  0.666667  0.833333  0.833333  \n",
       "4  1.000000  0.666667  0.833333  1.000000  \n",
       "5  1.000000  0.666667  0.666667  0.833333  \n",
       "6  1.000000  0.666667  0.833333  1.000000  "
      ]
     },
     "execution_count": 92,
     "metadata": {},
     "output_type": "execute_result"
    }
   ],
   "source": [
    "Results = {'Model': ['KNN', \n",
    "                 'NB', \n",
    "                 'ADA',\n",
    "                'RF', 'GBC', 'SVM','LogisticR'],\n",
    "         'Accuracy': [accKNN,accNB, accADA, accRF, accGBC, accSVM, accGLMNET], \n",
    "         'Sensitivity':[SensKNN,SensNB, SensADA, SensRF, SensGBC, SensSVM, SensGLMNET],\n",
    "        'Specificity':[SpeciKNN,SpeciNB, SpeciADA, SpeciRF, SpeciGBC, SpeciSVM, SpeciGLMNET],\n",
    "          'Accuracy_CV': [avKNN,avNB, avADA, avRF, avGBC, avSVM, avGLMNET], \n",
    "         'Min':[minKNN,minNB, minADA, minRF, minGBC, minSVM, minGLMNET],\n",
    "        'Max':[maxKNN,maxNB, maxADA, maxRF, maxGBC, maxSVM, maxGLMNET],\n",
    "        'q1':[quartilesKNN[0],quartilesNB[0],quartilesADA[0],quartilesRF[0],quartilesGBC[0],quartilesSVM[0],quartilesGLMNET[0]],\n",
    "          'q2':[quartilesKNN[1],quartilesNB[1],quartilesADA[1],quartilesRF[1],quartilesGBC[1],quartilesSVM[1],quartilesGLMNET[1]],\n",
    "          'q3':[quartilesKNN[2],quartilesNB[2],quartilesADA[2],quartilesRF[2],quartilesGBC[2],quartilesSVM[2],quartilesGLMNET[2]]\n",
    "          }\n",
    "\n",
    "df_results = pd.DataFrame(Results)\n",
    "df_results"
   ]
  },
  {
   "cell_type": "code",
   "execution_count": 93,
   "metadata": {},
   "outputs": [
    {
     "name": "stdout",
     "output_type": "stream",
     "text": [
      "Predicted   0   1\n",
      "Actual           \n",
      "0          10   1\n",
      "1           1  10\n"
     ]
    }
   ],
   "source": [
    "CF = pd.crosstab(y_test, predsGBC, rownames=['Actual'], colnames=['Predicted'])\n",
    "print (CF)"
   ]
  },
  {
   "cell_type": "code",
   "execution_count": 119,
   "metadata": {
    "scrolled": true
   },
   "outputs": [
    {
     "data": {
      "image/png": "[encoded data removed]",
      "text/plain": [
       "<Figure size 432x288 with 1 Axes>"
      ]
     },
     "metadata": {
      "needs_background": "light"
     },
     "output_type": "display_data"
    }
   ],
   "source": [
    "from numpy.random import seed, randn\n",
    "import matplotlib.pyplot as plt\n",
    "# Configuro la semilla aleatoria\n",
    "seed(1993)\n",
    "# Genero 100 muestras\n",
    "\n",
    "# Represento el histograma\n",
    "plt.hist(scoresGBC)\n",
    "plt.title('Histograma de una variable')\n",
    "plt.xlabel('Valor de la variable')\n",
    "plt.ylabel('Conteo')\n",
    "plt.show()\n",
    "\n",
    "\n",
    "\n",
    "\n"
   ]
  },
  {
   "cell_type": "code",
   "execution_count": 101,
   "metadata": {},
   "outputs": [
    {
     "data": {
      "text/plain": [
       "<sklearn.metrics._plot.roc_curve.RocCurveDisplay at 0x7f24cb53c210>"
      ]
     },
     "execution_count": 101,
     "metadata": {},
     "output_type": "execute_result"
    },
    {
     "data": {
      "image/png": "[encoded data removed]",
      "text/plain": [
       "<Figure size 432x288 with 1 Axes>"
      ]
     },
     "metadata": {
      "needs_background": "light"
     },
     "output_type": "display_data"
    }
   ],
   "source": [
    "metrics.plot_roc_curve(pipelineGBC, X_test, y_test)  \n"
   ]
  },
  {
   "cell_type": "code",
   "execution_count": 108,
   "metadata": {},
   "outputs": [
    {
     "data": {
      "text/plain": [
       "array([0.66666667, 0.83333333, 1.        , 1.        , 1.        ,\n",
       "       0.83333333, 0.5       , 0.66666667, 0.83333333])"
      ]
     },
     "execution_count": 108,
     "metadata": {},
     "output_type": "execute_result"
    }
   ],
   "source": [
    "scoresGBC"
   ]
  },
  {
   "cell_type": "code",
   "execution_count": 117,
   "metadata": {},
   "outputs": [
    {
     "data": {
      "text/plain": [
       "array([0. , 0.5, 1. ])"
      ]
     },
     "execution_count": 117,
     "metadata": {},
     "output_type": "execute_result"
    }
   ],
   "source": []
  },
  {
   "cell_type": "code",
   "execution_count": 118,
   "metadata": {},
   "outputs": [
    {
     "data": {
      "text/plain": [
       "array([nan, nan, nan])"
      ]
     },
     "execution_count": 118,
     "metadata": {},
     "output_type": "execute_result"
    }
   ],
   "source": []
  },
  {
   "cell_type": "code",
   "execution_count": null,
   "metadata": {},
   "outputs": [],
   "source": []
  }
 ],
 "metadata": {
  "kernelspec": {
   "display_name": "Python 3",
   "language": "python",
   "name": "python3"
  },
  "language_info": {
   "codemirror_mode": {
    "name": "ipython",
    "version": 3
   },
   "file_extension": ".py",
   "mimetype": "text/x-python",
   "name": "python",
   "nbconvert_exporter": "python",
   "pygments_lexer": "ipython3",
   "version": "3.7.6"
  }
 },
 "nbformat": 4,
 "nbformat_minor": 5
}
